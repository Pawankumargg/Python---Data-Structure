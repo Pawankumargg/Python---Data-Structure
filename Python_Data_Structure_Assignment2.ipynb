{
  "nbformat": 4,
  "nbformat_minor": 0,
  "metadata": {
    "colab": {
      "provenance": []
    },
    "kernelspec": {
      "name": "python3",
      "display_name": "Python 3"
    },
    "language_info": {
      "name": "python"
    }
  },
  "cells": [
    {
      "cell_type": "markdown",
      "source": [
        "# Python-Data Structure\n"
      ],
      "metadata": {
        "id": "seE2e5yoqaFt"
      }
    },
    {
      "cell_type": "markdown",
      "source": [
        "Q1.What are data structures, and why are they important?\n",
        "  - Lists, tuples and sets are the examples of data structure and these can be used to organize and storing data in Python. Importance- They provide well organized ways to store and modify data, enabling efficient code and improved problem-solving.\n",
        "\n",
        "Q2. Explain the difference between mutable and immutable data types with examples?\n",
        "  - Mutable data type: We can change the data stored in Mutable data type. For example, list is a mutable data type and we can easily change a list with different functions like, append or remove.\n",
        "  Immutable data type: We cannot change the data stored on immutable data type. For example, tuple is an immutable data type and we cannot change easily a tuple.\n",
        "\n",
        "Q3. What are the main differences between lists and tuples in Python?\n",
        "  - A list is a Mutable data type: We can change the data stored in Mutable data type. For example, list is a mutable data type and we can easily change a list with different functions like, append or remove. Tuple is an Immutable data type: We cannot change the data stored on immutable data type.\n",
        "\n",
        "Q4. Describe how dictionaries store data.\n",
        "  - In Python, dictionaries are used to store data as key-value pairs. A key within a dictionary must be unique and immutable.e.g., Num, string or tuple, while values can be of any data type and can be duplicated.\n",
        "\n",
        "Q5. Why might you use a set instead of a list in Python?\n",
        "  - We know that a set in Python is an unordered collection of unique elements. On the other hand, a list is an ordered collection that can also contain duplicates. These are the some of the reasons where we can use a set over a list: Set operations, ensuring uniqueness, removing duplicates, Ignoring order:\n",
        "\n",
        "Q6. What is a string in Python, and how is it different from a list?\n",
        "  - In Python, string is a sequence of characters between single or double quotes. A list is a sequence of items, where each item could be anything like integer, float, string, etc. Moreover, In Python a string can contain a textual representation of a list, but it does not inherently store a list as a data structure.\n",
        "\n",
        "Q7. How do tuples ensure data integrity in Python?\n",
        "  - Due to immutable nature, Tuples ensure data integrity in Python. Once a tuple is created, its elements cannot be modified, added, or removed.\n",
        "\n",
        "Q8. What is a hash table, and how does it relate to dictionaries in Python?\n",
        "  - In Python, a hash table is a data structure that stores key-value pairs. Here, each key is processed through a hash function to determine the index in an array where its associated value is stored.\n",
        "\n",
        "Q9. Can lists contain different data types in Python?\n",
        "  - Yes, in Python lists can contain items of different data types. A single list can hold a combination of floats, integers, strings, Booleans, and even, tuples, or dictionaries.\n",
        "\n",
        "Q10. Explain why strings are immutable in Python?\n",
        "  - Strings are immutable. It means, their value cannot be changed or modified after creation.\n",
        "\n",
        "Q11. What advantages do dictionaries offer over lists for certain tasks?\n",
        "  - Dictionaries in Python offer fast data retrieval. dictionaries use hash tables for quick access to values based on keys.\n",
        "\n",
        "Q12. Describe a scenario where using a tuple would be preferable over a list.\n",
        "  - Tuples are immutable. Hence, they are primarily used to store data that doesn't change frequently. Any operation can store data in a tuple when you don't want it to change.\n",
        "\n",
        "Q13. How do sets handle duplicate values in Python?\n",
        "  - In Python, sets are designed to store only unique elements. When attempting to add a duplicate value to a set, it is automatically ignored, and the set remains unchanged.\n",
        "\n",
        "Q14. How does the “in” keyword work differently for lists and dictionaries?\n",
        "  - In Python, keyword is used to check whether an element exists in a collection, but it behaves differently for lists and dictionaries in Python. For lists, in checks if a specific value exists in the list. For example,my_list = [10, 20, 30, 40]\n",
        "  print(20 in my_list)  # True\n",
        "  print(50 in my_list)  # False\n",
        "\n",
        "Q15. Can you modify the elements of a tuple? Explain why or why not?\n",
        "  - Tuples are immutable, their values cannot be changed after they are created. Thus, you cannot directly modify the elements of a tuple in Python. Attempting to modify a tuple will give an Error.\n",
        "\n",
        "Q16. What is a nested dictionary, and give an example of its use case?\n",
        "  - A nested dictionary in Python is a dictionary where the values are themselves dictionaries. This allows for representing hierarchical or multi-layered data structures. We can use nested dictionaries to organize employee records.\n",
        "\n",
        "  - Q17. Describe the time complexity of accessing elements in a dictionary. The time complexity of retrieving a value by its key in a dictionary is O(1). This is because dictionaries use a hash table internally which allows constant time lookup.\n",
        "\n",
        "Q18. In what situations are lists preferred over dictionaries?\n",
        "  - If ordering, indexing, and sequential operations are important, we can use Lists over dictionaries. For quick data look-ups, configurations, or caches, favour dictionaries.\n",
        "\n",
        "Q19. Why are dictionaries considered unordered, and how does that affect\n",
        "data retrieval?\n",
        "  - Dictionaries in Python are considered unordered because they store key-value pairs based on a hash table, rather than maintaining a strict sequence like lists do.\n",
        "\n",
        "Q20. Explain the difference between a list and a dictionary in terms of data retrieval.\n",
        "  - Lists access elements by numerical index if we talk about data retrieval. On the other hand, dictionaries access elements by unique keys. We know that Lists are ordered, thus, accessing elements by position is efficient in lists. While, Dictionaries are unordered but it provides fast lookup times based on keys.\n"
      ],
      "metadata": {
        "id": "YJrOxU52rH5-"
      }
    },
    {
      "cell_type": "markdown",
      "source": [
        "# Practical Questions"
      ],
      "metadata": {
        "id": "Zme394Antob2"
      }
    },
    {
      "cell_type": "code",
      "execution_count": null,
      "metadata": {
        "colab": {
          "base_uri": "https://localhost:8080/"
        },
        "id": "xOp5wM_9p0l8",
        "outputId": "908f8b14-8b6b-4d22-9b40-6c174c9d3eda"
      },
      "outputs": [
        {
          "output_type": "stream",
          "name": "stdout",
          "text": [
            "Pawan\n"
          ]
        }
      ],
      "source": [
        "#Q1. Write a code to create a string with your name and print it.\n",
        "name = \"Pawan\"\n",
        "print(name)"
      ]
    },
    {
      "cell_type": "code",
      "source": [
        "#Q2.  Write a code to find the length of the string \"Hello World\".\n",
        "x = \"Hello World\"\n",
        "print(len(x))"
      ],
      "metadata": {
        "colab": {
          "base_uri": "https://localhost:8080/"
        },
        "id": "7qWwIN26ujTT",
        "outputId": "0b193e71-e578-4da9-9f97-85cd59fec566"
      },
      "execution_count": null,
      "outputs": [
        {
          "output_type": "stream",
          "name": "stdout",
          "text": [
            "11\n"
          ]
        }
      ]
    },
    {
      "cell_type": "code",
      "source": [
        "#Q3. Write a code to slice the first 3 characters from the string \"Python\n",
        "# Programming\"\n",
        "x = \"Python Programming\"\n",
        "y = x[:3]\n",
        "print(y)"
      ],
      "metadata": {
        "colab": {
          "base_uri": "https://localhost:8080/"
        },
        "id": "sSYR-3VZvFc9",
        "outputId": "1c7aa619-a2d4-4310-80a4-1efd5ba7a96e"
      },
      "execution_count": null,
      "outputs": [
        {
          "output_type": "stream",
          "name": "stdout",
          "text": [
            "Pyt\n"
          ]
        }
      ]
    },
    {
      "cell_type": "code",
      "source": [
        "#Q4. Write a code to convert the string \"hello\" to uppercase.\n",
        "x = \"hello\"\n",
        "y = x.upper()\n",
        "print(y)"
      ],
      "metadata": {
        "colab": {
          "base_uri": "https://localhost:8080/"
        },
        "id": "iwwL7QBtwbor",
        "outputId": "764470ac-08e5-4af2-8511-c1b206782181"
      },
      "execution_count": null,
      "outputs": [
        {
          "output_type": "stream",
          "name": "stdout",
          "text": [
            "HELLO\n"
          ]
        }
      ]
    },
    {
      "cell_type": "code",
      "source": [
        "# Q5. Write a code to replace the word \"apple\" with \"orange\" in the string \"I\n",
        "# like apple\"\n",
        "x = \"I like apple\"\n",
        "y = x.replace(\"apple\", \"orange\")\n",
        "print(y)"
      ],
      "metadata": {
        "colab": {
          "base_uri": "https://localhost:8080/"
        },
        "id": "OrkJ2lH1xKKQ",
        "outputId": "b8d080da-455e-4d89-8073-0b602720f9ee"
      },
      "execution_count": null,
      "outputs": [
        {
          "output_type": "stream",
          "name": "stdout",
          "text": [
            "I like orange\n"
          ]
        }
      ]
    },
    {
      "cell_type": "code",
      "source": [
        "#Q6.  Write a code to create a list with numbers 1 to 5 and print it.\n",
        "x = [1, 2, 3, 4, 5]\n",
        "print(x)"
      ],
      "metadata": {
        "colab": {
          "base_uri": "https://localhost:8080/"
        },
        "id": "enmM-ysbyRmF",
        "outputId": "915c93ff-6320-4888-99cb-f5b20f626dc3"
      },
      "execution_count": null,
      "outputs": [
        {
          "output_type": "stream",
          "name": "stdout",
          "text": [
            "[1, 2, 3, 4, 5]\n"
          ]
        }
      ]
    },
    {
      "cell_type": "code",
      "source": [
        "#Q7. Write a code to append the number 10 to the list [1, 2, 3, 4].\n",
        "x = [1, 2, 3, 4]\n",
        "y = x.append(10)\n",
        "print(x)"
      ],
      "metadata": {
        "colab": {
          "base_uri": "https://localhost:8080/"
        },
        "id": "uZcf-9NfymYU",
        "outputId": "4a97d16b-8b69-493a-d637-e20015da23fc"
      },
      "execution_count": null,
      "outputs": [
        {
          "output_type": "stream",
          "name": "stdout",
          "text": [
            "[1, 2, 3, 4, 10]\n"
          ]
        }
      ]
    },
    {
      "cell_type": "code",
      "source": [
        "#Q9. Write a code to access the second element in the list ['a', 'b', 'c', 'd'].\n",
        "x = ['a', 'b', 'c', 'd']\n",
        "y = x[1]\n",
        "print(y)\n"
      ],
      "metadata": {
        "colab": {
          "base_uri": "https://localhost:8080/"
        },
        "id": "xa1cOydHzAjj",
        "outputId": "6192ea68-46fc-43f2-9878-cf9e72952445"
      },
      "execution_count": null,
      "outputs": [
        {
          "output_type": "stream",
          "name": "stdout",
          "text": [
            "b\n"
          ]
        }
      ]
    },
    {
      "cell_type": "code",
      "source": [
        "#Q10. Write a code to reverse the list [10, 20, 30, 40, 50].\n",
        "x = [10, 20, 30, 40, 50]\n",
        "y = x.reverse()\n",
        "print(x)"
      ],
      "metadata": {
        "colab": {
          "base_uri": "https://localhost:8080/"
        },
        "id": "LxTX5lhR0Sh1",
        "outputId": "8570ac56-64fc-489e-a683-a1f281672763"
      },
      "execution_count": null,
      "outputs": [
        {
          "output_type": "stream",
          "name": "stdout",
          "text": [
            "[50, 40, 30, 20, 10]\n"
          ]
        }
      ]
    },
    {
      "cell_type": "code",
      "source": [
        "#Q11. Write a code to create a tuple with the elements 100, 200, 300 and print\n",
        "# it.\n",
        "tuple = (100, 200, 300)\n",
        "print(tuple)"
      ],
      "metadata": {
        "id": "rTNQhgfP045U",
        "colab": {
          "base_uri": "https://localhost:8080/"
        },
        "outputId": "99e9ac68-8901-4d11-e1d4-4ee5dbb04de0"
      },
      "execution_count": 1,
      "outputs": [
        {
          "output_type": "stream",
          "name": "stdout",
          "text": [
            "(100, 200, 300)\n"
          ]
        }
      ]
    },
    {
      "cell_type": "code",
      "source": [
        "# Q12. Write a code to access the second-to-last element of the tuple ('red',\n",
        "# 'green', 'blue', 'yellow').\n",
        "colors = ('red', 'green', 'blue', 'yellow')\n",
        "x = colors[-2]\n",
        "print(x)"
      ],
      "metadata": {
        "colab": {
          "base_uri": "https://localhost:8080/"
        },
        "id": "QnnlVIX7mOP8",
        "outputId": "753de2a1-4f51-4325-8b61-ec0edbcd2b29"
      },
      "execution_count": 2,
      "outputs": [
        {
          "output_type": "stream",
          "name": "stdout",
          "text": [
            "blue\n"
          ]
        }
      ]
    },
    {
      "cell_type": "code",
      "source": [
        "#Q13. Write a code to find the minimum number in the tuple (10, 20, 5, 15).\n",
        "my_tuple = (10, 20, 5, 15)\n",
        "x = min(my_tuple)\n",
        "print(x)\n"
      ],
      "metadata": {
        "colab": {
          "base_uri": "https://localhost:8080/"
        },
        "id": "6A3lIRW1nDnE",
        "outputId": "e8850cfe-2fca-4335-ca71-4f84a7edc2a0"
      },
      "execution_count": 4,
      "outputs": [
        {
          "output_type": "stream",
          "name": "stdout",
          "text": [
            "5\n"
          ]
        }
      ]
    },
    {
      "cell_type": "code",
      "source": [
        "# Q14. Write a code to find the index of the element \"cat\" in the tuple ('dog',\n",
        "# 'cat', 'rabbit').\n",
        "my_tuple = ('dog', 'cat', 'rabbit')\n",
        "x = my_tuple.index('cat')\n",
        "print(x)"
      ],
      "metadata": {
        "colab": {
          "base_uri": "https://localhost:8080/"
        },
        "id": "KaIApEiZnj9c",
        "outputId": "92757d19-f89f-4588-be02-5cbeef1fa235"
      },
      "execution_count": 7,
      "outputs": [
        {
          "output_type": "stream",
          "name": "stdout",
          "text": [
            "1\n"
          ]
        }
      ]
    },
    {
      "cell_type": "code",
      "source": [
        "# Q15. Write a code to create a tuple containing three different fruits and\n",
        "# check if \"kiwi\" is in it.\n",
        "fruits = ('apple', 'banana', 'orange')\n",
        "if 'kiwi' in fruits:\n",
        "    print(\"Kiwi is in the tuple.\")\n",
        "else:\n",
        "    print(\"Kiwi is not in the tuple.\")"
      ],
      "metadata": {
        "colab": {
          "base_uri": "https://localhost:8080/"
        },
        "id": "tpLZX3jvoJP1",
        "outputId": "58e0afb9-934f-4ec7-8414-b4d0d38b6dd0"
      },
      "execution_count": 8,
      "outputs": [
        {
          "output_type": "stream",
          "name": "stdout",
          "text": [
            "Kiwi is not in the tuple.\n"
          ]
        }
      ]
    },
    {
      "cell_type": "code",
      "source": [
        "# Q16. Write a code to create a set with the elements 'a', 'b', 'c' and print\n",
        "# it.\n",
        "x = {'a', 'b', 'c'}\n",
        "print(x)\n"
      ],
      "metadata": {
        "colab": {
          "base_uri": "https://localhost:8080/"
        },
        "id": "u7tR9dQwpRJW",
        "outputId": "9fdbd394-7d7e-41cf-8992-81a1dbb7e475"
      },
      "execution_count": 9,
      "outputs": [
        {
          "output_type": "stream",
          "name": "stdout",
          "text": [
            "{'c', 'a', 'b'}\n"
          ]
        }
      ]
    },
    {
      "cell_type": "code",
      "source": [
        "#Q17. Write a code to clear all elements from the set {1, 2, 3, 4, 5}.\n",
        "x = {1, 2, 3, 4, 5}\n",
        "y = x.clear()\n",
        "print(x)"
      ],
      "metadata": {
        "colab": {
          "base_uri": "https://localhost:8080/"
        },
        "id": "P02hXTYfpqX6",
        "outputId": "8ddf42e5-17e1-4056-b8e3-fe1668194f1d"
      },
      "execution_count": 10,
      "outputs": [
        {
          "output_type": "stream",
          "name": "stdout",
          "text": [
            "set()\n"
          ]
        }
      ]
    },
    {
      "cell_type": "code",
      "source": [
        "#Q18.  Write a code to remove the element 4 from the set {1, 2, 3, 4}.\n",
        "x = {1, 2, 3, 4}\n",
        "y = x.remove(4)\n",
        "print(x)"
      ],
      "metadata": {
        "colab": {
          "base_uri": "https://localhost:8080/"
        },
        "id": "N7H-YDCFqrYl",
        "outputId": "cd40fe24-f6f5-46f0-a5cf-67a1f27b1d98"
      },
      "execution_count": 14,
      "outputs": [
        {
          "output_type": "stream",
          "name": "stdout",
          "text": [
            "{1, 2, 3}\n"
          ]
        }
      ]
    },
    {
      "cell_type": "code",
      "source": [
        "#Q19.  Write a code to find the union of two sets {1, 2, 3} and {3, 4, 5}.\n",
        "set1 = {1, 2, 3}\n",
        "set2 = {3, 4, 5}\n",
        "x = set1.union(set2)\n",
        "print(\"Union of the sets:\", x)\n"
      ],
      "metadata": {
        "colab": {
          "base_uri": "https://localhost:8080/"
        },
        "id": "P60_4-ONrYlb",
        "outputId": "5c753584-c114-4cc0-e03f-7bd8fd62f433"
      },
      "execution_count": 15,
      "outputs": [
        {
          "output_type": "stream",
          "name": "stdout",
          "text": [
            "Union of the sets: {1, 2, 3, 4, 5}\n"
          ]
        }
      ]
    },
    {
      "cell_type": "code",
      "source": [
        "# Q20. Write a code to find the intersection of two sets {1, 2, 3} and {2, 3,\n",
        "# 4}.\n",
        "set1 = {1, 2, 3}\n",
        "set2 = {2, 3, 4}\n",
        "x = set1.intersection(set2)\n",
        "print(\"Intersection of the sets:\", x)"
      ],
      "metadata": {
        "colab": {
          "base_uri": "https://localhost:8080/"
        },
        "id": "wZqHIV9islP1",
        "outputId": "dcc4549f-c3a4-40ed-91b1-cece14fb5065"
      },
      "execution_count": 16,
      "outputs": [
        {
          "output_type": "stream",
          "name": "stdout",
          "text": [
            "Intersection of the sets: {2, 3}\n"
          ]
        }
      ]
    },
    {
      "cell_type": "code",
      "source": [
        "# Q21. Write a code to create a dictionary with the keys \"name\", \"age\", and\n",
        "# \"city\", and print it\n",
        "x = {\n",
        "    \"name\": \"Pawan\",\n",
        "    \"age\": 35,\n",
        "    \"city\": \"India\"\n",
        "}\n",
        "print(x)"
      ],
      "metadata": {
        "colab": {
          "base_uri": "https://localhost:8080/"
        },
        "id": "sa1iS21ZuKUC",
        "outputId": "74a7461d-736f-4eef-dc46-a806b1d4823c"
      },
      "execution_count": 17,
      "outputs": [
        {
          "output_type": "stream",
          "name": "stdout",
          "text": [
            "{'name': 'Pawan', 'age': 35, 'city': 'India'}\n"
          ]
        }
      ]
    },
    {
      "cell_type": "code",
      "source": [
        "#Q22. Write a code to add a new key-value pair \"country\": \"USA\" to the\n",
        "#dictionary {'name': 'John', 'age': 25}.\n",
        "x = {'name': 'John', 'age': 25}\n",
        "x['country'] = 'USA'\n",
        "print(x)"
      ],
      "metadata": {
        "colab": {
          "base_uri": "https://localhost:8080/"
        },
        "id": "KH8S00KAvAJu",
        "outputId": "6bd24fb0-e0d9-4d12-93e5-70a7fbf73380"
      },
      "execution_count": 18,
      "outputs": [
        {
          "output_type": "stream",
          "name": "stdout",
          "text": [
            "{'name': 'John', 'age': 25, 'country': 'USA'}\n"
          ]
        }
      ]
    },
    {
      "cell_type": "code",
      "source": [
        "#Q23. Write a code to access the value associated with the key \"name\" in the\n",
        "#dictionary {'name': 'Alice', 'age': 30}.\n",
        "person_info = {'name': 'Alice', 'age': 30}\n",
        "name_value = person_info['name']\n",
        "print(\"Name:\", name_value)"
      ],
      "metadata": {
        "colab": {
          "base_uri": "https://localhost:8080/"
        },
        "id": "hl4TXD_dvs6U",
        "outputId": "e05eeefb-a7f0-4a0d-a533-3fca915c416b"
      },
      "execution_count": 19,
      "outputs": [
        {
          "output_type": "stream",
          "name": "stdout",
          "text": [
            "Name: Alice\n"
          ]
        }
      ]
    },
    {
      "cell_type": "code",
      "source": [
        "#Q24. Write a code to remove the key \"age\" from the dictionary\n",
        " #{'name': 'Bob', 'age': 22, 'city': 'New York'}\n",
        "x = {'name': 'Bob', 'age': 22, 'city': 'New York'}\n",
        "del x['age']\n",
        "print(x)\n"
      ],
      "metadata": {
        "colab": {
          "base_uri": "https://localhost:8080/"
        },
        "id": "LgpDiSenwJXW",
        "outputId": "209fe5a0-5a07-4c82-b542-e28db7a34b25"
      },
      "execution_count": 20,
      "outputs": [
        {
          "output_type": "stream",
          "name": "stdout",
          "text": [
            "{'name': 'Bob', 'city': 'New York'}\n"
          ]
        }
      ]
    },
    {
      "cell_type": "code",
      "source": [
        "#Q25.  Write a code to check if the key \"city\" exists in the dictionary\n",
        "#{'name': 'Alice', 'city': 'Paris'}\n",
        "x = {'name': 'Alice', 'city': 'Paris'}\n",
        "if 'city' in x:\n",
        "    print(\"The key 'city' exists in the dictionary.\")\n",
        "else:\n",
        "    print(\"The key 'city' does not exist in the dictionary.\")"
      ],
      "metadata": {
        "colab": {
          "base_uri": "https://localhost:8080/"
        },
        "id": "s9CZKiLWw-SD",
        "outputId": "d9072bf1-7d1a-4934-c7ad-db4a88c4f2da"
      },
      "execution_count": 21,
      "outputs": [
        {
          "output_type": "stream",
          "name": "stdout",
          "text": [
            "The key 'city' exists in the dictionary.\n"
          ]
        }
      ]
    },
    {
      "cell_type": "code",
      "source": [
        "# Q26. Write a code to create a list, a tuple, and a dictionary, and print them\n",
        "# all.\n",
        "x = [10, 20, 30, 40]\n",
        "y = ('apple', 'banana', 'cherry')\n",
        "z = {'name': 'Alice', 'age': 25, 'city': 'Paris'}\n",
        "print(\"List:\", x)\n",
        "print(\"Tuple:\", y)\n",
        "print(\"Dictionary:\", z)"
      ],
      "metadata": {
        "colab": {
          "base_uri": "https://localhost:8080/"
        },
        "id": "Z8kPDCExxV4N",
        "outputId": "3516bd15-06aa-4654-82f7-d3471c7710a2"
      },
      "execution_count": 22,
      "outputs": [
        {
          "output_type": "stream",
          "name": "stdout",
          "text": [
            "List: [10, 20, 30, 40]\n",
            "Tuple: ('apple', 'banana', 'cherry')\n",
            "Dictionary: {'name': 'Alice', 'age': 25, 'city': 'Paris'}\n"
          ]
        }
      ]
    },
    {
      "cell_type": "code",
      "source": [
        "#Q27. Write a code to create a list of 5 random numbers between 1 and 100,\n",
        "#sort it in ascending order, and print the\n",
        "#result.(replaced)\n",
        "import random\n",
        "x = random.sample(range(1, 101), 5)\n",
        "sorted_numbers = sorted(x)\n",
        "print(sorted_numbers)"
      ],
      "metadata": {
        "colab": {
          "base_uri": "https://localhost:8080/"
        },
        "id": "P9m2KCy5yNRC",
        "outputId": "fcafcd93-3d49-47be-a9bc-18bb5a415227"
      },
      "execution_count": 29,
      "outputs": [
        {
          "output_type": "stream",
          "name": "stdout",
          "text": [
            "[17, 19, 30, 31, 42]\n"
          ]
        }
      ]
    },
    {
      "cell_type": "code",
      "source": [
        "#28. Write a code to create a list with strings and print the element\n",
        "# at the third index.\n",
        "x = [\"apple\", \"banana\", \"cherry\", \"date\", \"elderberry\"]\n",
        "third_index_element = x[3]\n",
        "print(\"Element at third index:\", third_index_element)"
      ],
      "metadata": {
        "colab": {
          "base_uri": "https://localhost:8080/"
        },
        "id": "2oXlqi8Ry_bd",
        "outputId": "31b8fee3-4162-4aeb-baac-93225d3264ac"
      },
      "execution_count": 30,
      "outputs": [
        {
          "output_type": "stream",
          "name": "stdout",
          "text": [
            "Element at third index: date\n"
          ]
        }
      ]
    },
    {
      "cell_type": "code",
      "source": [
        "#Q29. Write a code to combine two dictionaries into one and print the result.\n",
        "dict1 = {\"name\": \"Alice\", \"age\": 25}\n",
        "dict2 = {\"city\": \"Paris\", \"country\": \"France\"}\n",
        "dict1.update(dict2)\n",
        "print(\"Combined dictionary:\", dict1)"
      ],
      "metadata": {
        "colab": {
          "base_uri": "https://localhost:8080/"
        },
        "id": "48a_it1o1Ka0",
        "outputId": "f29aa960-601e-43e3-95f9-91bc431a5f15"
      },
      "execution_count": 31,
      "outputs": [
        {
          "output_type": "stream",
          "name": "stdout",
          "text": [
            "Combined dictionary: {'name': 'Alice', 'age': 25, 'city': 'Paris', 'country': 'France'}\n"
          ]
        }
      ]
    },
    {
      "cell_type": "code",
      "source": [
        "#Q30. Write a code to convert a list of strings into a set.\n",
        "string_list = [\"apple\", \"banana\", \"cherry\", \"apple\", \"banana\"]\n",
        "string_set = set(string_list)\n",
        "print(\"Set:\", string_set)"
      ],
      "metadata": {
        "colab": {
          "base_uri": "https://localhost:8080/"
        },
        "id": "Wh6n4KQU1swQ",
        "outputId": "3856022a-0fb9-4149-c62f-8d58d2eef467"
      },
      "execution_count": 32,
      "outputs": [
        {
          "output_type": "stream",
          "name": "stdout",
          "text": [
            "Set: {'banana', 'apple', 'cherry'}\n"
          ]
        }
      ]
    },
    {
      "cell_type": "code",
      "source": [],
      "metadata": {
        "id": "oO-9BsaW2mzJ"
      },
      "execution_count": null,
      "outputs": []
    }
  ]
}